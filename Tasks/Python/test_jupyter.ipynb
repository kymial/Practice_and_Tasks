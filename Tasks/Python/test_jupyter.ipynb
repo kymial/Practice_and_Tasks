{
 "cells": [
  {
   "cell_type": "code",
   "execution_count": 58,
   "metadata": {},
   "outputs": [
    {
     "name": "stdout",
     "output_type": "stream",
     "text": [
      "윤년입니다.\n"
     ]
    }
   ],
   "source": [
    "year = 2400\n",
    "\n",
    "# if y % 400 == 0 or y % 100 != 0 and y % 4 == 0 :\n",
    "\n",
    "if year % 400 != 0 and year % 100 == 0 :\n",
    "    print('윤년이 아닙니다.')\n",
    "elif year % 4 == 0 :\n",
    "    print('윤년입니다.')\n",
    "else :\n",
    "    print('윤년이 아닙니다.')\n"
   ]
  },
  {
   "cell_type": "code",
   "execution_count": 85,
   "metadata": {},
   "outputs": [
    {
     "name": "stdout",
     "output_type": "stream",
     "text": [
      "윤년입니다\n"
     ]
    }
   ],
   "source": [
    "year = 2004\n",
    "\n",
    "if year % 4 == 0 :\n",
    "    if year % 100 == 0 :\n",
    "        if year % 400 == 0 :\n",
    "            print(\"윤년입니다\")\n",
    "        else :\n",
    "            print(\"윤년이 아닙니다\")\n",
    "    else :\n",
    "        print(\"윤년입니다\")\n",
    "else :\n",
    "    print(\"윤년이 아닙니다\")"
   ]
  },
  {
   "cell_type": "code",
   "execution_count": 93,
   "metadata": {},
   "outputs": [
    {
     "name": "stdout",
     "output_type": "stream",
     "text": [
      "YA = 석방, YB = 10년\n"
     ]
    }
   ],
   "source": [
    "XA = True\n",
    "XB = False\n",
    "YA = 0\n",
    "YB = 0\n",
    "\n",
    "if XA == True :\n",
    "    if XB == True : \n",
    "        print('YA = 5년, YB = 5년')\n",
    "    else :\n",
    "        print('YA = 석방, YB = 10년')\n",
    "else : \n",
    "    if XB == True :\n",
    "        print('YA = 10년, YB = 석방')\n",
    "    else :\n",
    "        print('YA = 1년, YB = 1년')\n",
    "        \n",
    "    \n",
    "    "
   ]
  }
 ],
 "metadata": {
  "kernelspec": {
   "display_name": "Python 3",
   "language": "python",
   "name": "python3"
  },
  "language_info": {
   "codemirror_mode": {
    "name": "ipython",
    "version": 3
   },
   "file_extension": ".py",
   "mimetype": "text/x-python",
   "name": "python",
   "nbconvert_exporter": "python",
   "pygments_lexer": "ipython3",
   "version": "3.12.2"
  }
 },
 "nbformat": 4,
 "nbformat_minor": 2
}
